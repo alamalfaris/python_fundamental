{
 "cells": [
  {
   "cell_type": "markdown",
   "metadata": {},
   "source": [
    "## Halo Dunia\n",
    "\n",
    "Sebelum mulai ada sebuah quote dari Steve Jobs yang saya suka yaitu \"Everybody in this country should learn how to program a computer... because it teaches you how to think\". Sayangnya banyak orang sudah merasa takut duluan sebelum mencoba belajar (termasuk saya dulu). Padahal menurut saya asal kita mau mencoba, kita pasti bisa. Belajar bahasa program intinya dapat melatih kita berlogika secara runut. Hal itu yang akhirnya membuat saya berani untuk mulai belajar. Sampai saat ini pun saya masih seorang newbie, mungkin sama seperti kalian yang membaca notebook ini.\n",
    "\n",
    "Bahasa program yang digunakan dalam notebook ini adalah Python. Python adalah bahasa program yang diciptakan oleh Guido van Russom pada tahun 1991. Beberapa tahun terakhir perkembangan bahasa python melesat sangat cepat bahkan melebihi Java. Hal ini dikarenakan syntax dari Python lebih ringkas dan mudah dipahami, sangat berbeda dengan bahasa lain yang syntax nya lebih rumit. Python dapat digunakan untuk kebutuhan komputasi, seperti:\n",
    "\n",
    "1. Web Development\n",
    "2. Software Development\n",
    "3. Data Science, Big Data, etc\n",
    "4. Machine Learning\n",
    "5. Artificial Intelligence\n",
    "6. Mathematics\n",
    "\n",
    "Seperti dijelaskan sebelumnya bahwa python memiliki syntax yang ringkas dibandingkan bahasa program lain. Contohnya seperti saya ingin mencetak tulisan \"Halo dunia yang indah\" kita cukup menulis:"
   ]
  },
  {
   "cell_type": "code",
   "execution_count": 1,
   "metadata": {},
   "outputs": [
    {
     "name": "stdout",
     "output_type": "stream",
     "text": [
      "Halo dunia yang indah\n"
     ]
    }
   ],
   "source": [
    "print('Halo dunia yang indah')"
   ]
  },
  {
   "cell_type": "markdown",
   "metadata": {},
   "source": [
    "Kita hanya perlu menggunakan function 'print' untuk mencetak tulisan, atau apapun. Sangat ringkas bukan? Contoh lain, saya akan melakukan operasi matematika (2 + 2), lalu saya cetak hasilnya"
   ]
  },
  {
   "cell_type": "code",
   "execution_count": 2,
   "metadata": {},
   "outputs": [
    {
     "name": "stdout",
     "output_type": "stream",
     "text": [
      "4\n"
     ]
    }
   ],
   "source": [
    "print(2 + 2)"
   ]
  },
  {
   "cell_type": "markdown",
   "metadata": {},
   "source": [
    "Gampang kan? Nah selanjutnya saya akan membahas mengenai variabel."
   ]
  },
  {
   "cell_type": "markdown",
   "metadata": {},
   "source": [
    "## Variabel\n",
    "\n",
    "Pasti ada yang bertanya, apa sih variabel itu? Variabel adalah tempat kita menyimpan suatu nilai. Contohnya seperti ini:"
   ]
  },
  {
   "cell_type": "code",
   "execution_count": 4,
   "metadata": {},
   "outputs": [
    {
     "ename": "SyntaxError",
     "evalue": "invalid syntax (<ipython-input-4-c39df12eaf30>, line 8)",
     "output_type": "error",
     "traceback": [
      "\u001b[1;36m  File \u001b[1;32m\"<ipython-input-4-c39df12eaf30>\"\u001b[1;36m, line \u001b[1;32m8\u001b[0m\n\u001b[1;33m    1data = 'halo dunia'\u001b[0m\n\u001b[1;37m        ^\u001b[0m\n\u001b[1;31mSyntaxError\u001b[0m\u001b[1;31m:\u001b[0m invalid syntax\n"
     ]
    }
   ],
   "source": [
    "data = 'halo dunia'\n",
    "\n",
    "# Apa maksud dari code di atas? \n",
    "# Code di atas berarti frasa 'halo dunia' disimpan kedalam variabel yang dinamakan data\n",
    "# Apakah variabel nya harus berana data? Tentu tidak, kalian bebas memberi nama variabel\n",
    "# Hanya ada 2 syaratnya, yaitu jangan mengawali nama variabel dengan angka\n",
    "# Lalu nama variabel tidak boleh sama dengan nama function atau method bawaan python\n",
    "# Apa yang terjadi kita nama variabel kita diawali angka??\n",
    "# Maka akan terjadi 'error: invalid syntax', seperti contoh di bawah ini:\n",
    "\n",
    "1data = 'halo dunia'  # akan error\n",
    "print = 'halo dunia' # akan error"
   ]
  },
  {
   "cell_type": "markdown",
   "metadata": {},
   "source": [
    "Bagaimana jika kita mau mencetak nilai yang ada di dalam variabel? Caranya, kita menggunakan function 'print' dengan parameter si variabel tersebut, contoh:"
   ]
  },
  {
   "cell_type": "code",
   "execution_count": 6,
   "metadata": {},
   "outputs": [
    {
     "name": "stdout",
     "output_type": "stream",
     "text": [
      "halo dunia\n"
     ]
    }
   ],
   "source": [
    "data = 'halo dunia'\n",
    "print(data)"
   ]
  },
  {
   "cell_type": "markdown",
   "metadata": {},
   "source": [
    "Lalu bagaimana jika kita mau mengganti nilai yang tersimpan didalam suatu variabel? Caranya kita tinggal ketik ulang nama variabel nya dengan nilai yang berbeda, contoh:"
   ]
  },
  {
   "cell_type": "code",
   "execution_count": 7,
   "metadata": {},
   "outputs": [
    {
     "name": "stdout",
     "output_type": "stream",
     "text": [
      "dunia maya\n"
     ]
    }
   ],
   "source": [
    "data = 'halo dunia'\n",
    "data = 'dunia maya'\n",
    "print(data)"
   ]
  },
  {
   "cell_type": "markdown",
   "metadata": {},
   "source": [
    "Lho, kenapa yang tercetak bukan 'halo dunia'? karena di baris setelah data = 'halo dunia', kita men-deklarasikan ulang variabel data dengan nilai 'dunia maya'. Python adalah bahasa program yang row-oriented, dijalankan per-baris."
   ]
  },
  {
   "cell_type": "markdown",
   "metadata": {},
   "source": [
    "## Tipe data\n",
    "\n",
    "Seperti bahasa program lainnya, python juga memiliki beberapa tipe data:\n",
    "\n",
    "1. String/str: Tipe data ini berupa teks, data tipe ini ditulis dengan tanda single/double quote: ('halo'),(\"halo\")\n",
    "2. Integer/int: Tipe data ini berupa angka bulat (gak pake koma), contoh: 1,2,3\n",
    "3. Float: Tipe data ini berupa angka desimal (pake koma), contoh: 1.3, 2.2\n",
    "4. Boolean/bool: Tipe data ini berupa nilai True atau False\n",
    "\n",
    "Dalam code, kita bisa check apa jenis data kita, dengan menggunakan method type()"
   ]
  },
  {
   "cell_type": "code",
   "execution_count": 8,
   "metadata": {},
   "outputs": [
    {
     "name": "stdout",
     "output_type": "stream",
     "text": [
      "halo dunia\n",
      "<class 'str'>\n",
      "23\n",
      "<class 'int'>\n",
      "3.4\n",
      "<class 'float'>\n",
      "False\n",
      "<class 'bool'>\n"
     ]
    }
   ],
   "source": [
    "# STRING / str\n",
    "string = 'halo dunia'\n",
    "print(string)\n",
    "print(type(string))  # Contoh jika kita mau lihat jenis data\n",
    "\n",
    "# INTEGER / int\n",
    "integer = 23\n",
    "print(integer)\n",
    "print(type(integer))\n",
    "\n",
    "# FLOAT\n",
    "floatt = 3.4\n",
    "print(floatt)\n",
    "print(type(floatt))\n",
    "\n",
    "# BOOLEAN / bool\n",
    "boolean = False\n",
    "print(boolean)\n",
    "print(type(boolean))"
   ]
  },
  {
   "cell_type": "markdown",
   "metadata": {},
   "source": [
    "Hasilnya: \n",
    "\n",
    "1. 'halo dunia' bertipe str/string\n",
    "2. 23 bertipe int/integer\n",
    "3. 3.4 bertipe float\n",
    "4. False bertipe bool/boolean"
   ]
  }
 ],
 "metadata": {
  "kernelspec": {
   "display_name": "Python 3",
   "language": "python",
   "name": "python3"
  },
  "language_info": {
   "codemirror_mode": {
    "name": "ipython",
    "version": 3
   },
   "file_extension": ".py",
   "mimetype": "text/x-python",
   "name": "python",
   "nbconvert_exporter": "python",
   "pygments_lexer": "ipython3",
   "version": "3.7.6"
  }
 },
 "nbformat": 4,
 "nbformat_minor": 4
}
